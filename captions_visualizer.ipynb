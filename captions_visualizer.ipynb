{
 "cells": [
  {
   "cell_type": "markdown",
   "source": [
    "# Dataset visualization"
   ],
   "metadata": {
    "collapsed": false
   }
  },
  {
   "cell_type": "code",
   "execution_count": null,
   "id": "6a5d5148",
   "metadata": {
    "ExecuteTime": {
     "start_time": "2023-04-26T16:47:37.006064Z",
     "end_time": "2023-04-26T16:47:37.010939Z"
    }
   },
   "outputs": [],
   "source": [
    "from pathlib import Path\n",
    "import paths\n",
    "from datasets import VOCDataset\n"
   ]
  },
  {
   "cell_type": "code",
   "execution_count": null,
   "id": "f1455059",
   "metadata": {
    "ExecuteTime": {
     "start_time": "2023-04-26T16:47:37.192994Z",
     "end_time": "2023-04-26T16:47:37.256254Z"
    }
   },
   "outputs": [],
   "source": [
    "voc_path = Path(paths.CV_PATH_VOC)\n",
    "dataset = VOCDataset(voc_path, voc_path / \"ImageSets\" / \"Segmentation\" / \"val.txt\",\n",
    "                     load_captions=True)\n"
   ]
  },
  {
   "cell_type": "code",
   "execution_count": null,
   "id": "2822c959",
   "metadata": {
    "ExecuteTime": {
     "start_time": "2023-04-26T16:49:47.002655Z",
     "end_time": "2023-04-26T16:49:47.196763Z"
    }
   },
   "outputs": [],
   "source": [
    "def show_datapoint(n):\n",
    "    data = dataset[n]\n",
    "    display(data[\"image\"])\n",
    "    print(f\"Reference caption: {data['caption']}\")\n",
    "\n",
    "show_datapoint(0)\n"
   ]
  },
  {
   "cell_type": "code",
   "execution_count": null,
   "id": "492c82aa",
   "metadata": {
    "ExecuteTime": {
     "start_time": "2023-04-26T16:49:48.386930Z",
     "end_time": "2023-04-26T16:49:48.402045Z"
    }
   },
   "outputs": [],
   "source": [
    "# load and show generated captions\n",
    "# todo update the path to match your experiment\n",
    "pred_captions_file = \"outputs/eval_captioning/2023_04_26_16_41_22/pred_captions.txt\"\n",
    "with open(pred_captions_file, \"r\", encoding=\"utf-8\") as f:\n",
    "    pred_captions = f.readlines()\n",
    "assert len(pred_captions) == len(dataset)\n",
    "\n",
    "def show_caption(n):\n",
    "    print(f\"Generated caption: {pred_captions[n]}\")\n"
   ]
  },
  {
   "cell_type": "code",
   "execution_count": null,
   "outputs": [],
   "source": [
    "for i in range(10):\n",
    "    show_datapoint(i)\n",
    "    show_caption(i)\n"
   ],
   "metadata": {
    "collapsed": false,
    "ExecuteTime": {
     "start_time": "2023-04-26T16:50:10.865155Z",
     "end_time": "2023-04-26T16:50:11.472414Z"
    }
   }
  },
  {
   "cell_type": "code",
   "execution_count": null,
   "outputs": [],
   "source": [],
   "metadata": {
    "collapsed": false
   }
  }
 ],
 "metadata": {
  "kernelspec": {
   "display_name": "Python 3 (ipykernel)",
   "language": "python",
   "name": "python3"
  },
  "language_info": {
   "codemirror_mode": {
    "name": "ipython",
    "version": 3
   },
   "file_extension": ".py",
   "mimetype": "text/x-python",
   "name": "python",
   "nbconvert_exporter": "python",
   "pygments_lexer": "ipython3",
   "version": "3.8.16"
  }
 },
 "nbformat": 4,
 "nbformat_minor": 5
}